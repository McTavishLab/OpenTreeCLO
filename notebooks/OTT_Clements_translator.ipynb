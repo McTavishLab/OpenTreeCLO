{
 "cells": [
  {
   "cell_type": "code",
   "execution_count": 1,
   "metadata": {},
   "outputs": [],
   "source": [
    "from opentree import OT\n",
    "import physcraper ## NEEDS branch ebird\n",
    "import os"
   ]
  },
  {
   "cell_type": "code",
   "execution_count": 2,
   "metadata": {},
   "outputs": [],
   "source": [
    "infi = open(\"../taxonomy_info/combined_data.tsv\")\n",
    "header = infi.readline().split('\\t')\n",
    "\n",
    "double_match = {}\n",
    "mapping_dict = {}\n",
    "\n",
    "for lin in infi:\n",
    "    lii = lin.split('\\t')\n",
    "    if lii[9] == '-':\n",
    "        continue\n",
    "    if lii[9] in mapping_dict:\n",
    "        if lii[9] not in double_match:\n",
    "            double_match[lii[9]] = {}\n",
    "        existing_eb_nam = mapping_dict[lii[9]]['SCI_NAME']\n",
    "        double_match[lii[9]][existing_eb_nam] = mapping_dict[lii[9]]\n",
    "        new_eb_name = lii[4]\n",
    "        double_match[lii[9]][new_eb_name] = dict(zip(header, lii))\n",
    "    mapping_dict[lii[9]]=dict(zip(header, lii))\n",
    "    \n",
    "\n",
    "infi.close()"
   ]
  },
  {
   "cell_type": "code",
   "execution_count": 3,
   "metadata": {},
   "outputs": [],
   "source": [
    "aves_trees_resp = OT.find_trees(\"81461\", search_property =\"ot:ottId\")"
   ]
  },
  {
   "cell_type": "code",
   "execution_count": 4,
   "metadata": {},
   "outputs": [],
   "source": [
    "all_aves_resp = OT.taxon_subtree(ott_id = \"81461\", label_format = \"id\")"
   ]
  },
  {
   "cell_type": "code",
   "execution_count": 5,
   "metadata": {},
   "outputs": [],
   "source": [
    "all_aves = set(all_aves_resp.response_dict['newick'].replace('(', ',').replace(')',',').replace('ott', ',').split(','))\n",
    "all_aves.remove('')"
   ]
  },
  {
   "cell_type": "code",
   "execution_count": 6,
   "metadata": {},
   "outputs": [],
   "source": [
    "forwards = open(\"../../ott3.2/forwards.tsv\")\n",
    "forward_dict = {}\n",
    "for lin in forwards:\n",
    "    lii = lin.strip().split('\\t')\n",
    "    forward_dict[lii[0]] = lii[1]\n",
    "    if lii[1].strip() in all_aves:\n",
    "        all_aves.add(lii[0])"
   ]
  },
  {
   "cell_type": "code",
   "execution_count": 7,
   "metadata": {},
   "outputs": [
    {
     "data": {
      "text/plain": [
       "29249"
      ]
     },
     "execution_count": 7,
     "metadata": {},
     "output_type": "execute_result"
    }
   ],
   "source": [
    "len(all_aves)"
   ]
  },
  {
   "cell_type": "code",
   "execution_count": 8,
   "metadata": {},
   "outputs": [
    {
     "data": {
      "text/plain": [
       "342"
      ]
     },
     "execution_count": 8,
     "metadata": {},
     "output_type": "execute_result"
    }
   ],
   "source": [
    "len(aves_trees_resp.response_dict['matched_studies'])"
   ]
  },
  {
   "cell_type": "code",
   "execution_count": 14,
   "metadata": {},
   "outputs": [],
   "source": [
    "tips_mapped_with_no_ebird_match = {}\n",
    "study_to_cite = {}\n",
    "#os.mkdir(\"../bird_studies_translation\")\n",
    "#os.chdir(\"../bird_studies_translation\")\n"
   ]
  },
  {
   "cell_type": "code",
   "execution_count": 15,
   "metadata": {},
   "outputs": [],
   "source": [
    "for study in aves_trees_resp.response_dict['matched_studies']:\n",
    "    study_id = study['ot:studyId']\n",
    "    curr_dir = \"study_{}\".format(study_id)\n",
    "    try:\n",
    "        os.mkdir(curr_dir)\n",
    "    except:\n",
    "        pass\n",
    "    cite = OT.get_citations([study_id])\n",
    "    study_to_cite[study_id] = cite\n",
    "    fi = open(\"{}/cite.txt\".format(curr_dir), 'w')\n",
    "    fi.write(cite)\n",
    "    fi.close()\n",
    "    for tree in study['matched_trees']:\n",
    "        tree_id = tree['ot:treeId']\n",
    "        tt = physcraper.opentree_helpers.generate_treetaxon_from_phylesystem(study_id=study_id, tree_id=tree_id)\n",
    "        for tip in tt.otu_dict:\n",
    "            ott_id = str(tt.otu_dict[tip]['^ot:ottId'])\n",
    "            if ott_id in forward_dict:\n",
    "                ott_id = forward_dict[ott_id]\n",
    "            if ott_id not in all_aves:\n",
    "                spp_code = \"not_a_bird\"\n",
    "                ebird_name = \"not_a_bird\"\n",
    "            else:\n",
    "                ebird_info = mapping_dict.get(ott_id, None)\n",
    "                if ebird_info:\n",
    "                    spp_code = ebird_info['SPECIES_CODE']\n",
    "                    ebird_name = ebird_info['SCI_NAME']\n",
    "                else:\n",
    "                    spp_code = \"no_match\"\n",
    "                    ebird_name = \"no_match\"\n",
    "                    if ott_id in tips_mapped_with_no_ebird_match:\n",
    "                        tips_mapped_with_no_ebird_match[ott_id].append(\"{},{}\".format(tt.otu_dict[tip]['^ot:originalLabel'],study_id))\n",
    "                    else:\n",
    "                        tips_mapped_with_no_ebird_match[ott_id] = [\"{},{}\".format(tt.otu_dict[tip]['^ot:originalLabel'],study_id)]\n",
    "            tt.otu_dict[tip]['^clo:speciescode2019'] = spp_code\n",
    "            tt.otu_dict[tip]['^clo:ClementsTaxonName2019'] = ebird_name\n",
    "        physcraper.aligntreetax.write_otu_file(tt, \"{}/{}_{}_labels.csv\".format(curr_dir, study_id, tree_id), 'table', headers = \"other\")\n",
    "        for tip in tt.tre.leaf_node_iter():\n",
    "            tip.annotations['otu'] = tip.label\n",
    "            for prop in ['^ot:ottId','^ot:ottTaxonName','^ot:originalLabel', '^clo:ClementsTaxonName2019', '^clo:speciescode2019']:\n",
    "                tip.annotations[prop] =  tt.otu_dict[tip.label][prop]\n",
    "        tt.tre.annotations['messages'] = \"\" #it won't write out if there are json annotations in the messages\n",
    "        tt.tre.write(path=\"{}/{}_{}.nex\".format(curr_dir, study_id, tree_id), schema=\"nexus\")\n"
   ]
  },
  {
   "cell_type": "code",
   "execution_count": 17,
   "metadata": {},
   "outputs": [],
   "source": [
    "ott_fi = open(\"tips_with_no_Clements_match.tsv\", 'w')\n",
    "ott_fi.write('ott_id\\toriginal_label,study_id')\n",
    "for ott_id in tips_mapped_with_no_ebird_match:\n",
    "    ott_fi.write(\"{}\\t\".format(ott_id))\n",
    "    ott_fi.write(\"\\t\".join(tips_mapped_with_no_ebird_match[ott_id]))\n",
    "    ott_fi.write(\"\\n\")\n",
    "ott_fi.close()\n",
    "    \n",
    "    "
   ]
  },
  {
   "cell_type": "code",
   "execution_count": 18,
   "metadata": {},
   "outputs": [],
   "source": [
    "cite_fi = open(\"citation_map.tsv\", 'w')\n",
    "for study in study_to_cite:\n",
    "    cite = study_to_cite[study].replace('\\n','\\t')\n",
    "    cite_fi.write(\"{}\\t{}\\n\".format(study, cite))\n",
    "    \n",
    "cite_fi.close()\n"
   ]
  },
  {
   "cell_type": "code",
   "execution_count": null,
   "metadata": {},
   "outputs": [],
   "source": []
  },
  {
   "cell_type": "code",
   "execution_count": null,
   "metadata": {},
   "outputs": [],
   "source": []
  }
 ],
 "metadata": {
  "kernelspec": {
   "display_name": "opentree",
   "language": "python",
   "name": "opentree"
  },
  "language_info": {
   "codemirror_mode": {
    "name": "ipython",
    "version": 3
   },
   "file_extension": ".py",
   "mimetype": "text/x-python",
   "name": "python",
   "nbconvert_exporter": "python",
   "pygments_lexer": "ipython3",
   "version": "3.8.5"
  }
 },
 "nbformat": 4,
 "nbformat_minor": 4
}
